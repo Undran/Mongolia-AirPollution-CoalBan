# --------------------------------------
# EDA: Ulaanbaatar Air Pollution (2015–2018)
# --------------------------------------

# 1. Install and import packages
# !pip install kaggle
import pandas as pd
import matplotlib.pyplot as plt
import seaborn as sns
from statsmodels.tsa.seasonal import seasonal_decompose
from kaggle.api.kaggle_api_extended import KaggleApi
import os

# --------------------------------------
# 2. Download the dataset from Kaggle
# --------------------------------------
api = KaggleApi()
api.authenticate()

dataset_name = "robertritz/ulaanbaatar-particulate-matter"
data_folder = "data/"
api.dataset_download_files(dataset_name, path=data_folder, unzip=True)
print("Dataset downloaded and extracted to 'data/' folder.")

# --------------------------------------
# 3. Load the CSV
# --------------------------------------
csv_file = os.path.join(data_folder, "ulaanbaatar-particulate-matter.csv")
df = pd.read_csv(csv_file)

# Preview
print(df.head())
print(df.info())

# --------------------------------------
# 4. Convert timestamp
# --------------------------------------
df['timestamp'] = pd.to_datetime(df['timestamp'])

# --------------------------------------
# 5. Filter Ger districts
ger_stations = ['ST01', 'ST02', 'ST03']  # replace with actual IDs
df_ger = df[df['station_id'].isin(ger_stations)]
df_ger.set_index('timestamp', inplace=True)

# --------------------------------------
# 6. Summary statistics
# --------------------------------------
print(df_ger[['pm25', 'pm10']].describe())

# --------------------------------------
# 7. Check missing values
# --------------------------------------
print(df_ger.isnull().sum())

# --------------------------------------
# 8. Plot PM2.5 and PM10 trends
# --------------------------------------
plt.figure(figsize=(14,7))
plt.plot(df_ger.index, df_ger['pm25'], label='PM2.5', color='blue')
plt.plot(df_ger.index, df_ger['pm10'], label='PM10', color='orange', alpha=0.7)
plt.title('PM2.5 and PM10 Levels in Ulaanbaatar Ger Districts (2015–2018)')
plt.xlabel('Date')
plt.ylabel('Concentration (µg/m³)')
plt.legend()
plt.show()

# --------------------------------------
# 9. Seasonal decomposition for PM2.5
# --------------------------------------
pm25_series = df_ger['pm25'].dropna()
result = seasonal_decompose(pm25_series, model='multiplicative', period=365)
result.plot()
plt.show()

# --------------------------------------
# 10. Save filtered Ger district dataset
# --------------------------------------
df_ger.to_csv(os.path.join(data_folder, "ulb_pm_ger_districts.csv"))
print("Filtered Ger district dataset saved to 'ulb_pm_ger_districts.csv'.")
